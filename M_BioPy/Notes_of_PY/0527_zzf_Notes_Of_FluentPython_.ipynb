{
 "cells": [
  {
   "cell_type": "markdown",
   "metadata": {},
   "source": [
    "# Fluent Python\n",
    "> Notes By zzf 20190527\n",
    "\n",
    "> Reference: ***Fluent Python*** *By Luciano Ramalho*\n\n",
    "## Chapter 1  Python 数据模型\n",
    "> Python 最好的品质之一是一致性。当你使用 Python 工作一会儿后，就会开始理解 Python 语言，并能正确猜测出对你来说全新的语言特征。\n",
    "然而，如果你带着来自其他面向对象语言的经验进入 Python 的世界，会对 len(colleciton) 而不是 collection.len() 写法觉得不适。当你进一步理解这种不适 感背后的原因之后，会发现这个原因，和它所代表的庞大的设计思想，是形成我们通常说 的“Python 风格”（Pythonic）的关键。这种设计思想完全体现在 Python 的数据模型上，而 数据模型所描述的 API，为使用最地道的语言特性来构建你自己的对象提供了工具。\n",
    "\n",
    "### 特殊方法 / magic method / dunder method\n",
    "```py\n",
    "__init__, __len__, __getitem__\n",
    "```\n",
    "\n",
    "#### Exp 1.1 纸牌"
   ]
  },
  {
   "cell_type": "code",
   "execution_count": 1,
   "metadata": {},
   "outputs": [],
   "source": [
    "import collections\n",
    "Card = collections.namedtuple('Card', ['rank', 'suit'])\n",
    "class FrenchDeck:    \n",
    "    ranks = [str(n) for n in range(2, 11)] + list('JQKA')    \n",
    "    suits = 'spades diamonds clubs hearts'.split()\n",
    "    def __init__(self):\n",
    "        self._cards = [Card(rank, suit) for suit in self.suits \n",
    "                                        for rank in self.ranks]\n",
    "    def __len__(self):\n",
    "        return len(self._cards)\n",
    "    def __getitem__(self, position):\n",
    "        return self._cards[position]"
   ]
  },
  {
   "cell_type": "markdown",
   "metadata": {},
   "source": [
    "##### Notes\n",
    "```py\n",
    "__len__(self) # 外部使用len()调用该类对象时，__len__起作用，进一层用len()调用list对象，由list对象的__len__起作用\n",
    "\n",
    "__getitem__(self) # 外部使用[]调用该类对象时，__getitem__起作用，进一层用[]调用dict对象，由dict对象的__getitem__起作用\n",
    "```"
   ]
  },
  {
   "cell_type": "code",
   "execution_count": 2,
   "metadata": {},
   "outputs": [],
   "source": [
    "deck = FrenchDeck()"
   ]
  },
  {
   "cell_type": "markdown",
   "metadata": {},
   "source": [
    "##### Notes\n",
    "```py\n",
    "# 由__len__实现\n",
    "len(dect)\n",
    "\n",
    "# 由__getitem__实现\n",
    "deck[0]\n",
    "deck[-1]\n",
    "deck[12::13]\n",
    "\n",
    "for card in deck: \n",
    "    print(card)\n",
    "\n",
    "from random import choice\n",
    "choice(deck) # Card(rank='3', suit='hearts')\n",
    "choice(deck) # Card(rank='K', suit='spades') \n",
    "choice(deck) # Card(rank='2', suit='clubs')\n",
    "\n",
    "\n",
    "```"
   ]
  },
  {
   "cell_type": "code",
   "execution_count": 3,
   "metadata": {},
   "outputs": [],
   "source": [
    "suit_values = dict(spades=3, hearts=2, diamonds=1, clubs=0)\n",
    "def spades_high(card):\n",
    "    rank_value = FrenchDeck.ranks.index(card.rank)\n",
    "    return rank_value * len(suit_values) + suit_values[card.suit]"
   ]
  },
  {
   "cell_type": "markdown",
   "metadata": {},
   "source": [
    "##### Notes\n",
    "```py\n",
    "FrenchDeck.ranks # ['2', '3', '4', '5', '6', '7', '8', '9', '10', 'J', 'Q', 'K', 'A']\n",
    "FrenchDeck.ranks.index('A') # 12 -> return the index of the input element\n",
    "rank_value * len(suit_values) + suit_values[card.suit] # get the 'score' of input card\n",
    "```"
   ]
  },
  {
   "cell_type": "code",
   "execution_count": 4,
   "metadata": {
    "scrolled": true
   },
   "outputs": [
    {
     "name": "stdout",
     "output_type": "stream",
     "text": [
      "Card(rank='2', suit='clubs')\n",
      "Card(rank='2', suit='diamonds')\n",
      "Card(rank='2', suit='hearts')\n",
      "Card(rank='2', suit='spades')\n",
      "Card(rank='3', suit='clubs')\n",
      "Card(rank='3', suit='diamonds')\n",
      "Card(rank='3', suit='hearts')\n",
      "Card(rank='3', suit='spades')\n",
      "Card(rank='4', suit='clubs')\n",
      "Card(rank='4', suit='diamonds')\n",
      "Card(rank='4', suit='hearts')\n",
      "Card(rank='4', suit='spades')\n",
      "Card(rank='5', suit='clubs')\n",
      "Card(rank='5', suit='diamonds')\n",
      "Card(rank='5', suit='hearts')\n",
      "Card(rank='5', suit='spades')\n",
      "Card(rank='6', suit='clubs')\n",
      "Card(rank='6', suit='diamonds')\n",
      "Card(rank='6', suit='hearts')\n",
      "Card(rank='6', suit='spades')\n",
      "Card(rank='7', suit='clubs')\n",
      "Card(rank='7', suit='diamonds')\n",
      "Card(rank='7', suit='hearts')\n",
      "Card(rank='7', suit='spades')\n",
      "Card(rank='8', suit='clubs')\n",
      "Card(rank='8', suit='diamonds')\n",
      "Card(rank='8', suit='hearts')\n",
      "Card(rank='8', suit='spades')\n",
      "Card(rank='9', suit='clubs')\n",
      "Card(rank='9', suit='diamonds')\n",
      "Card(rank='9', suit='hearts')\n",
      "Card(rank='9', suit='spades')\n",
      "Card(rank='10', suit='clubs')\n",
      "Card(rank='10', suit='diamonds')\n",
      "Card(rank='10', suit='hearts')\n",
      "Card(rank='10', suit='spades')\n",
      "Card(rank='J', suit='clubs')\n",
      "Card(rank='J', suit='diamonds')\n",
      "Card(rank='J', suit='hearts')\n",
      "Card(rank='J', suit='spades')\n",
      "Card(rank='Q', suit='clubs')\n",
      "Card(rank='Q', suit='diamonds')\n",
      "Card(rank='Q', suit='hearts')\n",
      "Card(rank='Q', suit='spades')\n",
      "Card(rank='K', suit='clubs')\n",
      "Card(rank='K', suit='diamonds')\n",
      "Card(rank='K', suit='hearts')\n",
      "Card(rank='K', suit='spades')\n",
      "Card(rank='A', suit='clubs')\n",
      "Card(rank='A', suit='diamonds')\n",
      "Card(rank='A', suit='hearts')\n",
      "Card(rank='A', suit='spades')\n"
     ]
    }
   ],
   "source": [
    "for card in sorted(deck, key=spades_high):\n",
    "    print(card)"
   ]
  },
  {
   "cell_type": "markdown",
   "metadata": {},
   "source": [
    "##### Notes\n",
    "```py\n",
    "sorted(deck, key=spades_high) # sorted(iterable, key=function) # every element in iterable will apply the function\n",
    "```"
   ]
  },
  {
   "cell_type": "markdown",
   "execution_count": null,
   "metadata": {},
   "outputs": [],
   "source": [
    "## Chapter 17  使用`future`处理并发"
   ]
  },
  {
   "cell_type": "code",
   "execution_count": 1,
   "metadata": {},
   "outputs": [],
   "source": [
    "import os, time, sys, requests\n",
    "\n",
    "POP20_CC = ('CN IN US ID BR PK NG BD RU JP '\n",
    "            'MX PH VN ET EG DE IR TR CD FR').split()\n",
    "\n",
    "BASE_URL = 'http://flupy.org/data/flags'\n",
    "\n",
    "DEST_DIR = 'downloads/'"
   ]
  },
  {
   "cell_type": "code",
   "execution_count": 2,
   "metadata": {},
   "outputs": [],
   "source": [
    "class Flags:\n",
    "    \n",
    "    @staticmethod\n",
    "    def save_flag(img, filename):\n",
    "        path = os.path.join(DEST_DIR, filename)\n",
    "        with open(path, 'wb') as fp:\n",
    "            fp.write(img)\n",
    "    \n",
    "    @staticmethod\n",
    "    def get_flag(cc):\n",
    "        url = '{}/{cc}/{cc}.gif'.format(BASE_URL, cc=cc.lower())\n",
    "        resp = requests.get(url)\n",
    "        return resp.content\n",
    "    \n",
    "    @staticmethod\n",
    "    def show(text):\n",
    "        print(text, end=',')\n",
    "        sys.stdout.flush()\n",
    "    \n",
    "    @classmethod\n",
    "    def download_many(cls, cc_list):\n",
    "        for cc in sorted(cc_list):\n",
    "            image = cls.get_flag(cc)\n",
    "            cls.show(cc)\n",
    "            cls.save_flag(image, cc.lower() + '.gif')\n",
    "\n",
    "        return len(cc_list)\n",
    "    \n",
    "    @classmethod\n",
    "    def main(cls):\n",
    "        t0 = time.time()\n",
    "        count = cls.download_many(POP20_CC)\n",
    "        elapsed = time.time() - t0\n",
    "        msg = '\\n{} flags downloaded in {:.2f}s'\n",
    "        print(msg.format(count, elapsed))\n"
   ]
  },
  {
   "cell_type": "code",
   "execution_count": 3,
   "metadata": {},
   "outputs": [
    {
     "name": "stdout",
     "output_type": "stream",
     "text": "BD,BR,CD,CN,DE,EG,ET,FR,ID,IN,IR,JP,MX,NG,PH,PK,RU,TR,US,VN,\n20 flags downloaded in 149.46s\n"
    }
   ],
   "source": [
    "Flags.main()"
   ]
  },
  {
   "cell_type": "code",
   "execution_count": 4,
   "metadata": {},
   "outputs": [],
   "source": [
    "from concurrent import futures\n",
    "\n",
    "\n",
    "MAX_WORKERS = 20\n",
    "\n",
    "\n",
    "class Flags_Threadpool(Flags):\n",
    "\n",
    "    @classmethod\n",
    "    def download_one(cls, cc):\n",
    "        image = cls.get_flag(cc)\n",
    "        cls.show(cc)\n",
    "        cls.save_flag(image, cc.lower() + '.gif')\n",
    "        return cc\n",
    "\n",
    "    @classmethod\n",
    "    def download_many(cls, cc_list):\n",
    "        workers = min(MAX_WORKERS, len(cc_list))\n",
    "        with futures.ThreadPoolExecutor(workers) as executor:\n",
    "            res = executor.map(cls.download_one, sorted(cc_list))\n",
    "\n",
    "        return len(list(res))"
   ]
  },
  {
   "cell_type": "code",
   "execution_count": 5,
   "metadata": {},
   "outputs": [
    {
     "name": "stdout",
     "output_type": "stream",
     "text": "BD,ID,IN,PK,NG,IR,US,DE,PH,MX,CN,ET,CD,RU,VN,JP,BR,FR,EG,TR,\n20 flags downloaded in 9.73s\n"
    }
   ],
   "source": [
    "Flags_Threadpool.main()"
   ]
  },
  {
   "cell_type": "code",
   "execution_count": 6,
   "metadata": {},
   "outputs": [],
   "source": [
    "import asyncio\n",
    "import aiohttp\n",
    "\n",
    "class Flags_Asyncio(Flags):\n",
    "\n",
    "    @staticmethod\n",
    "    async def get_flag(session, cc):\n",
    "        url = '{}/{cc}/{cc}.gif'.format(BASE_URL, cc=cc.lower())\n",
    "        async with session.get(url) as resp:\n",
    "            return await resp.read()\n",
    "\n",
    "    @classmethod\n",
    "    async def download_one(cls, session, cc):\n",
    "        image = await cls.get_flag(session, cc)\n",
    "        cls.show(cc)\n",
    "        cls.save_flag(image, cc.lower() + '.gif')\n",
    "        return cc\n",
    "\n",
    "    @classmethod\n",
    "    async def download_many(cls, cc_list):\n",
    "        async with aiohttp.ClientSession() as session:\n",
    "            res = await asyncio.gather(\n",
    "                *[asyncio.create_task(cls.download_one(session, cc))\n",
    "                    for cc in sorted(cc_list)])\n",
    "\n",
    "        return len(res)"
   ]
  },
  {
   "cell_type": "code",
   "execution_count": 7,
   "metadata": {},
   "outputs": [
    {
     "name": "stdout",
     "output_type": "stream",
     "text": "\n<coroutine object Flags_Asyncio.download_many at 0x0000028069784948> flags downloaded in 0.00s\nC:\\Users\\Nature\\Miniconda3\\lib\\site-packages\\ipykernel_launcher.py:1: RuntimeWarning: coroutine 'Flags_Asyncio.download_many' was never awaited\n  \"\"\"Entry point for launching an IPython kernel.\n"
    }
   ],
   "source": [
    "Flags_Asyncio.main()"
   ]
  },
  {
   "cell_type": "code",
   "execution_count": null,
   "metadata": {},
   "outputs": [],
   "source": []
  }
 ],
 "metadata": {
  "kernelspec": {
   "display_name": "Python 3",
   "language": "python",
   "name": "python3"
  },
  "language_info": {
   "codemirror_mode": {
    "name": "ipython",
    "version": 3
   },
   "file_extension": ".py",
   "mimetype": "text/x-python",
   "name": "python",
   "nbconvert_exporter": "python",
   "pygments_lexer": "ipython3",
   "version": "3.6.8"
  }
 },
 "nbformat": 4,
 "nbformat_minor": 2
}