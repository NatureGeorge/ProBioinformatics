{
 "cells": [
  {
   "cell_type": "markdown",
   "metadata": {},
   "source": [
    "# Bioinformatics Aligrithms\n",
    "> Bioinformatics Algorithms Design and Implementation in Python\n",
    "\n",
    "> Miguel Rocha University of Minho, Braga, Portugal\n",
    "\n",
    "> Pedro G. Ferreira Ipatimup/i3S, Porto, Portugal\n",
    "\n",
    "## Pattern Recognition of Sequence\n",
    "### Approach\n",
    "*  Naive Algorithm\n",
    "\n",
    "### Jobs\n",
    "* Enzyme Binding Site with ligands\n",
    "* Promoter, Enhancer, Transcription Factor and so on of DNA\n",
    "* Repeated Segments\n",
    "\n",
    "### Patterns\n",
    "* Fixed Pattern $\\rightarrow$ 算法复杂度\n",
    "* 灵活模式 $\\rightarrow$ 正则表达式\n",
    "\n",
    "####  Naive Algorithm for Fixed Pattern Finding\n",
    "Example1: 匹配句子中的某一单词\n",
    "##### Description\n",
    "A naive approach to search for the occurrence of a pattern p (of length k) in a sequence s (of length N>k) is to consider __all possible sub-sequences of s__, of size k, and compare each of those, position by position, to p. Once a mismatch is found, we can move to test the next sub-sequence.\n",
    "\n",
    "If the sub-sequence matches the pattern in all positions, an occurrence of p is found. If the purpose is to find all occurrences of p in s, we must continue even in case of success, while if it is only required to find the first occurrence (or simply if the pattern occurs), we can stop when the first sub-sequence matches p.\n",
    "\n",
    "Both variants are implemented in the Python functions provided in the following code block.\n",
    "\n",
    "The ```search_first_occ``` function uses an outer while cycle that finishes when the pattern is found, or the last sub-sequence is tested. The function returns the position of the first occurrence of the pattern, or if the pattern does not occur returns −1.\n",
    "\n",
    "The ```search_all_occurrences``` function uses a for cycle that tests for all possible subsequences (note that there are N − k + 1 possible positions where the pattern may occur), and returns a list with all initial positions of the pattern’s occurrences (the list is empty if the pattern does not occur)."
   ]
  },
  {
   "cell_type": "code",
   "execution_count": 1,
   "metadata": {},
   "outputs": [],
   "source": [
    "def search_first_occ(seq, pattern): \n",
    "    found = False\n",
    "    i=0\n",
    "    while i <= len(seq)-len(pattern) and not found:\n",
    "        j=0\n",
    "        while j < len(pattern) and pattern[j]==seq[i+j]:\n",
    "            j=j+1\n",
    "        if j == len(pattern): found = True \n",
    "        else: i += 1\n",
    "    if found: return i\n",
    "    else: return -1\n",
    "    \n",
    "\n",
    "def search_all_occurrences(seq, pattern): \n",
    "    res = []\n",
    "    for i in range(len(seq)-len(pattern)+1):\n",
    "        j=0\n",
    "        while j < len(pattern) and pattern[j]==seq[i+j]:\n",
    "            j=j+1\n",
    "        if j == len(pattern):\n",
    "            res.append(i) \n",
    "    return res"
   ]
  },
  {
   "cell_type": "code",
   "execution_count": 2,
   "metadata": {},
   "outputs": [
    {
     "name": "stdout",
     "output_type": "stream",
     "text": [
      "3\n",
      "-1\n",
      "[4, 11]\n",
      "\n",
      "3\n",
      "-1\n",
      "[4, 11]\n"
     ]
    }
   ],
   "source": [
    "seqDNA = \"ATAGAATAGATAATAGTC\"\n",
    "print(search_first_occ(seqDNA, \"GAAT\")) \n",
    "print(search_first_occ(seqDNA, \"TATA\")) \n",
    "print(search_all_occurrences(seqDNA, \"AAT\"))\n",
    "print()\n",
    "print(seqDNA.find(\"GAAT\"))\n",
    "print(seqDNA.find(\"TATA\"))\n",
    "print(\n",
    "    sorted(\n",
    "        set(\n",
    "            filter(\n",
    "                lambda x: x != -1, (\n",
    "                    seqDNA.find(\"AAT\",i) for i in range(len(seqDNA))\n",
    "                )\n",
    "            )\n",
    "        )\n",
    "    )\n",
    ")"
   ]
  },
  {
   "cell_type": "code",
   "execution_count": 3,
   "metadata": {},
   "outputs": [
    {
     "data": {
      "text/plain": [
       "3"
      ]
     },
     "execution_count": 3,
     "metadata": {},
     "output_type": "execute_result"
    }
   ],
   "source": [
    "\"TAGAATAGATAATAGTC\".find(\"AAT\")"
   ]
  },
  {
   "cell_type": "code",
   "execution_count": 4,
   "metadata": {},
   "outputs": [
    {
     "name": "stdout",
     "output_type": "stream",
     "text": [
      "Help on method_descriptor:\n",
      "\n",
      "find(...)\n",
      "    S.find(sub[, start[, end]]) -> int\n",
      "    \n",
      "    Return the lowest index in S where substring sub is found,\n",
      "    such that sub is contained within S[start:end].  Optional\n",
      "    arguments start and end are interpreted as in slice notation.\n",
      "    \n",
      "    Return -1 on failure.\n",
      "\n"
     ]
    }
   ],
   "source": [
    "help(str.find)"
   ]
  },
  {
   "cell_type": "markdown",
   "metadata": {},
   "source": [
    "####   Heuristic Algorithm: _Boyer-Moore_\n",
    "> 跳跃，减少无用步数，同时考虑潜在可能\n",
    "\n",
    "\n",
    "ABC __D__ EACD \n",
    "\n",
    "EAC __D__\n",
    "\n",
    "ABCD __EACD__\n",
    "\n",
    "0OO0 __EACD__\n",
    "\n",
    "从左到右，从末尾往前匹配\n",
    "##### 坏字符规则\n",
    "\n",
    "##### 好后缀规则\n",
    "\n",
    "__注意，位置从0开始计算__"
   ]
  },
  {
   "cell_type": "code",
   "execution_count": 5,
   "metadata": {},
   "outputs": [],
   "source": [
    "class BoyerMoore:\n",
    "    # initialized object of this class \n",
    "    def __init__(self, alphabet, pattern):\n",
    "        self.alphabet = alphabet\n",
    "        self.pattern = pattern\n",
    "        self.preprocess()\n",
    "        \n",
    "    def preprocess(self):\n",
    "        self.process_bcr()\n",
    "        self.process_gsr()\n",
    "    \n",
    "    def process_bcr(self):\n",
    "        self.occ = {}\n",
    "        # 初始化全集字典\n",
    "        for symb in self.alphabet:\n",
    "            self.occ[symb] = -1\n",
    "        # 更新全集字典，存储各个字符在Pattern中最后出现的位置\n",
    "        for j in range(len(self.pattern)):\n",
    "            c = self.pattern[j]\n",
    "            self.occ[c] = j\n",
    "    \n",
    "    def process_gsr( self ):\n",
    "        # 初始化两个Pattern列表用以记录Pattern中的重复字符\n",
    "        # 初始化Pattern列表 1\n",
    "        self.f = [0] * (len(self.pattern)+1)\n",
    "        # 初始化Pattern列表 2\n",
    "        self.s = [0] * (len(self.pattern)+1)\n",
    "        i = len(self.pattern)\n",
    "        j = len(self.pattern)+1\n",
    "        # 定义Pattern列表 1的最后元素为pattern长度+1\n",
    "        self.f[i] = j\n",
    "        # 查找Pattern中非重复字符的位置差并存于列表2中，\n",
    "        while i>0:\n",
    "            while j<= len(self.pattern) and self.pattern[i-1]!=self.pattern[j-1]:\n",
    "                if self.s[j] == 0: self.s[j] = j-i;\n",
    "                # 修正Index\n",
    "                j = self.f[j]\n",
    "            i -= 1\n",
    "            j -= 1\n",
    "            self.f[i] = j\n",
    "        j = self.f[0]\n",
    "        for i in range(len(self.pattern)):\n",
    "            if self.s[i] == 0: self.s[i] = j\n",
    "            if i == j: j = self.f[j]\n",
    "\n",
    "    def search_pattern(self, text):\n",
    "        res = []\n",
    "        i=0\n",
    "        while i <= len(text) - len(self.pattern):\n",
    "            j= len(self.pattern)- 1\n",
    "            while j>=0 and self.pattern[j]==text[j+i]: j -= 1\n",
    "            if (j<0):\n",
    "                res.append(i)\n",
    "                i += self.s[0]\n",
    "            else:\n",
    "                c = text[j+i]\n",
    "                i += max(self.s[j+1], j-self.occ[c])\n",
    "        return res"
   ]
  },
  {
   "cell_type": "code",
   "execution_count": 6,
   "metadata": {},
   "outputs": [
    {
     "name": "stdout",
     "output_type": "stream",
     "text": [
      "[5, 13, 23, 37]\n"
     ]
    }
   ],
   "source": [
    "bm = BoyerMoore(\"ACTG\", \"ACCA\")\n",
    "print(bm.search_pattern(\"ATAGAACCAATGAACCATGATGAACCATGGATACCCAACCACC\"))"
   ]
  },
  {
   "cell_type": "code",
   "execution_count": 7,
   "metadata": {},
   "outputs": [],
   "source": [
    "pattern=\"ACCA\"\n",
    "f = [0] * (len(pattern)+1)\n",
    " # 初始化Pattern列表 2\n",
    "s = [0] * (len(pattern)+1)\n",
    "i = len(pattern)\n",
    "j = len(pattern)+1\n",
    "# 定义Pattern列表 1的最后元素为pattern长度+1\n",
    "f[i] = j"
   ]
  },
  {
   "cell_type": "code",
   "execution_count": 8,
   "metadata": {},
   "outputs": [
    {
     "data": {
      "text/plain": [
       "([0, 0, 0, 0, 5], [0, 0, 0, 0, 0], 4, 5)"
      ]
     },
     "execution_count": 8,
     "metadata": {},
     "output_type": "execute_result"
    }
   ],
   "source": [
    "f,s,i,j"
   ]
  },
  {
   "cell_type": "code",
   "execution_count": 9,
   "metadata": {},
   "outputs": [
    {
     "name": "stdout",
     "output_type": "stream",
     "text": [
      "False\n",
      "C A\n"
     ]
    }
   ],
   "source": [
    "print(j<= 4 and pattern[3-1]!=pattern[4-1])\n",
    "print(pattern[3-1],pattern[4-1])"
   ]
  },
  {
   "cell_type": "code",
   "execution_count": 10,
   "metadata": {},
   "outputs": [],
   "source": [
    "# 查找Pattern中非重复字符的位置差并存于列表2中，\n",
    "while i>0:\n",
    "    '''\n",
    "     [A, C, C, A   ]\n",
    "      0  1  2  3\n",
    "      |  |  |  |\n",
    "    f[0, 0, 0, 4, 5]\n",
    "    i       ^  |\n",
    "    j          ^  |\n",
    "    s[0, 0, 0, 0, 0]\n",
    "    '''\n",
    "    while j<= len(pattern) and pattern[i-1]!=pattern[j-1]:\n",
    "        if s[j] == 0: s[j] = j-i;\n",
    "        # 修正Index\n",
    "        j = f[j]\n",
    "    i -= 1\n",
    "    j -= 1\n",
    "    f[i] = j"
   ]
  },
  {
   "cell_type": "code",
   "execution_count": 11,
   "metadata": {},
   "outputs": [
    {
     "data": {
      "text/plain": [
       "([3, 4, 4, 4, 5], [0, 0, 0, 0, 1], 0, 3)"
      ]
     },
     "execution_count": 11,
     "metadata": {},
     "output_type": "execute_result"
    }
   ],
   "source": [
    "f,s,i,j"
   ]
  },
  {
   "cell_type": "code",
   "execution_count": 12,
   "metadata": {},
   "outputs": [],
   "source": [
    "def find_all_occurrences_re(seq, pat):\n",
    "    from re import finditer\n",
    "    mos = finditer(pat, seq)\n",
    "    res = []\n",
    "    for x in mos:\n",
    "        res.append(x.span()[0])\n",
    "    return res\n",
    "\n",
    "\n",
    "def find_all_overlap(seq, pat, mode=1):\n",
    "    if mode == 1:\n",
    "        return find_all_occurrences_re(seq, \"(?=\" + pat + \")\")\n",
    "    else:\n",
    "        return find_all_occurrences_re(seq, pat)\n",
    "\n",
    "\n",
    "def test(seq, pat, mode):\n",
    "    all_ov = find_all_overlap(seq, pat, mode)\n",
    "    if len(all_ov) > 0:\n",
    "        print(\"Pattern found in positions: \", all_ov)\n",
    "    else:\n",
    "        print(\"Pattern not found\")"
   ]
  },
  {
   "cell_type": "code",
   "execution_count": 13,
   "metadata": {},
   "outputs": [],
   "source": [
    "import re"
   ]
  },
  {
   "cell_type": "code",
   "execution_count": 14,
   "metadata": {},
   "outputs": [
    {
     "data": {
      "text/plain": [
       "['CC']"
      ]
     },
     "execution_count": 14,
     "metadata": {},
     "output_type": "execute_result"
    }
   ],
   "source": [
    "re.findall(\"CC\",\"ATCCCGTCG\")"
   ]
  },
  {
   "cell_type": "code",
   "execution_count": 15,
   "metadata": {},
   "outputs": [
    {
     "name": "stdout",
     "output_type": "stream",
     "text": [
      "Pattern found in positions:  [2, 3]\n",
      "Pattern found in positions:  [2]\n"
     ]
    }
   ],
   "source": [
    "test('ATCCCGTCG','CC', 1)\n",
    "test('ATCCCGTCG','CC',0)"
   ]
  },
  {
   "cell_type": "markdown",
   "metadata": {},
   "source": [
    "### Sequence Alignment\n",
    "> 与运筹学、最优化相关问题的全局最优、局部最优相似\n",
    "\n",
    "* global alignment\n",
    "* local alignment\n",
    "* gaps\n",
    "\n",
    "#### Definitions\n",
    "* 同源性\n",
    "* 相似性\n",
    "* 一致性?\n",
    "\n",
    "#### Application\n",
    "1. Global Alignment: 适用于非常相似且长度近似相等的序列\n",
    "2. Local Alignment: 适用于一些片段相似而另一些片段相异的序列\n",
    "\n",
    "#### Visualization\n",
    "1. Dotlet -> 寻找单个序列中的重复片段\n",
    "2. HeatMap -> SAME\n"
   ]
  },
  {
   "cell_type": "code",
   "execution_count": 16,
   "metadata": {},
   "outputs": [
    {
     "name": "stdout",
     "output_type": "stream",
     "text": [
      " TATATATT\n",
      "C        \n",
      "G        \n",
      "A ∗ ∗ ∗  \n",
      "T∗ ∗ ∗ ∗∗\n",
      "A ∗ ∗ ∗  \n",
      "T∗ ∗ ∗ ∗∗\n",
      "A ∗ ∗ ∗  \n",
      "G        \n"
     ]
    }
   ],
   "source": [
    "# 最简情况: 二元矩阵\n",
    "# From TEACHER\n",
    "#1. dot plot\n",
    "def create_mat(nrows, ncols):\n",
    "    #create a matrix filled with zero\n",
    "    mat = []\n",
    "    for i in range(nrows):\n",
    "        mat.append([])\n",
    "        for j in range(ncols):\n",
    "            mat[i].append(0)\n",
    "    return mat\n",
    "\n",
    "def dotplot(seq1, seq2):\n",
    "    #construct the dot matrix\n",
    "    mat = create_mat(len(seq1), len(seq2))\n",
    "    for i in range(len(seq1)):\n",
    "        for j in range(len(seq2)):\n",
    "            if seq1[i] == seq2[j]:\n",
    "                mat[i][j] = 1\n",
    "    return mat\n",
    "\n",
    "def print_dotplot(mat, s1, s2):\n",
    "    #print dotplot matrix\n",
    "    import sys\n",
    "    sys.stdout.write(\" \" + s2+\"\\n\")\n",
    "    for i in range(len(mat)):\n",
    "        sys.stdout.write(s1[i])\n",
    "        for j in range(len(mat[i])):\n",
    "            if mat[i][j] >= 1:\n",
    "                sys.stdout.write(\"∗\")\n",
    "            else:\n",
    "                sys.stdout.write(\" \")\n",
    "        sys.stdout.write(\"\\n\")\n",
    "        \n",
    "s1 = \"CGATATAG\"\n",
    "s2 = \"TATATATT\"\n",
    "mat1 = dotplot(s1, s2)\n",
    "print_dotplot(mat1, s1, s2)"
   ]
  },
  {
   "cell_type": "markdown",
   "metadata": {},
   "source": [
    "> Since, in many cases, this simple algorithm leads to much noise, it is common to ﬁlter the results. ___One of the possible strategies is to consider a window around each position, and count the number of matching characters for each sequence in such neighborhood.___ In this case, we only ﬁll a given cell if, within this neighborhood, the number of matching characters exceeds a given parameter, typically named as stringency. A function implementing this strategy is given below."
   ]
  },
  {
   "cell_type": "code",
   "execution_count": 17,
   "metadata": {},
   "outputs": [
    {
     "name": "stdout",
     "output_type": "stream",
     "text": [
      " TATATAGTAT\n",
      "C          \n",
      "G          \n",
      "A          \n",
      "T  ∗       \n",
      "A   ∗      \n",
      "T  ∗ ∗     \n",
      "A   ∗ ∗    \n",
      "G  ∗       \n",
      "A          \n",
      "T          \n",
      "T          \n"
     ]
    }
   ],
   "source": [
    "def extended_dotplot (seq1, seq2, window, stringency):\n",
    "    mat = create_mat(len(seq1), len(seq2))\n",
    "    start = int(window/2)\n",
    "    for i in range(start,len(seq1)-start):\n",
    "        for j in range(start, len(seq2)-start):\n",
    "            matches = 0\n",
    "            l = j-start\n",
    "            for k in range(i-start, i+start+1):\n",
    "                if seq1[k] == seq2[l]: matches += 1\n",
    "                l += 1\n",
    "                if matches >= stringency: mat[i][j] = 1\n",
    "    return mat\n",
    "\n",
    "s1 = \"CGATATAGATT\"\n",
    "s2 = \"TATATAGTAT\"\n",
    "mat2 = extended_dotplot(s1, s2, 5, 4)\n",
    "print_dotplot(mat2, s1, s2)"
   ]
  },
  {
   "cell_type": "code",
   "execution_count": 18,
   "metadata": {},
   "outputs": [],
   "source": [
    "import pandas as pd\n",
    "import numpy as np\n",
    "import matplotlib.pyplot as plt\n",
    "import seaborn as sns\n",
    "from collections import OrderedDict"
   ]
  },
  {
   "cell_type": "code",
   "execution_count": 19,
   "metadata": {},
   "outputs": [],
   "source": [
    "def dotlet_plot(seq1, seq2, window, stringency):\n",
    "    # assert window>=stringency, \"Invalid Input ! window should >= stringency\"\n",
    "    # seq_index = [i for i in seq]\n",
    "    df = pd.DataFrame([[0]*len(seq1) for i in seq2])# , columns=seq_index, index=seq_index)\n",
    "    '''\n",
    "    for i in range(len(seq1)):\n",
    "        for j in range(len(seq2)):\n",
    "            if seq1[i] == seq2[j]:\n",
    "                df[i][j] = 1\n",
    "    '''\n",
    "    start = int(window/2)\n",
    "    for i in range(start,len(seq1)-start):\n",
    "        for j in range(start, len(seq2)-start):\n",
    "            '''\n",
    "            In this case, we only fill a given cell if,\n",
    "            within this neighborhood, the number of matching\n",
    "            characters exceeds a given parameter(stringency)\n",
    "            '''\n",
    "            matches = 0\n",
    "            # Creact a window\n",
    "            l = j-start # ROW\n",
    "            for k in range(i-start, i+start+1): # COL\n",
    "                '''\n",
    "                i-start -> i+start+1\n",
    "                length: 2*start + 1\n",
    "                => \n",
    "                '''\n",
    "                if seq1[k] == seq2[l]:\n",
    "                    matches += 1\n",
    "                l += 1 # ROW\n",
    "                if matches >= stringency: # and seq1[i] == seq2[j]:\n",
    "                    df[i][j] = 1\n",
    "                    break\n",
    "    return df"
   ]
  },
  {
   "cell_type": "code",
   "execution_count": 20,
   "metadata": {},
   "outputs": [
    {
     "data": {
      "text/plain": [
       "<matplotlib.axes._subplots.AxesSubplot at 0x1a2f408e080>"
      ]
     },
     "execution_count": 20,
     "metadata": {},
     "output_type": "execute_result"
    },
    {
     "data": {
      "image/png": "[encoded data removed]",
      "text/plain": [
       "<Figure size 432x288 with 2 Axes>"
      ]
     },
     "metadata": {
      "needs_background": "light"
     },
     "output_type": "display_data"
    }
   ],
   "source": [
    "sns.heatmap(dotlet_plot(s1,s2,5,4))"
   ]
  },
  {
   "cell_type": "code",
   "execution_count": 21,
   "metadata": {},
   "outputs": [
    {
     "data": {
      "text/plain": [
       "<matplotlib.axes._subplots.AxesSubplot at 0x1a2f4413630>"
      ]
     },
     "execution_count": 21,
     "metadata": {},
     "output_type": "execute_result"
    },
    {
     "data": {
      "image/png": "[encoded data removed]",
      "text/plain": [
       "<Figure size 432x288 with 2 Axes>"
      ]
     },
     "metadata": {
      "needs_background": "light"
     },
     "output_type": "display_data"
    }
   ],
   "source": [
    "sns.heatmap(dotlet_plot(\"CCATCTATCGGATA\",\"ATCTATCGGATAC\",5,4))"
   ]
  },
  {
   "cell_type": "markdown",
   "metadata": {},
   "source": [
    "#### Improvment\n",
    "* 目标函数\n",
    "    * 替换矩阵 $round(2\\,\\log_{2}^{\\frac{P(a,b)}{P(a)\\,P(b)}})$\n",
    "    * 空位罚分\n",
    "\n",
    "> $P(ab) = P(a|b)\\,P(b) = P(b|a)\\,P(a) \\Rightarrow \\frac{P(a,b)}{P(a)\\,P(b)} = \\frac{P(a|b)}{P(a)} = \\frac{P(b|a)}{P(b)}$\n",
    "\n",
    "\n",
    "\n",
    "* BLOSUM62 MATRIX\n",
    "\n",
    "#### Dynamic Programming\n",
    "* Needleman-Wunsch\n",
    "* Smith-Waterman"
   ]
  },
  {
   "cell_type": "code",
   "execution_count": 22,
   "metadata": {},
   "outputs": [],
   "source": [
    "from Bio.SubsMat import MatrixInfo\n",
    "matrix = MatrixInfo.blosum62"
   ]
  },
  {
   "cell_type": "code",
   "execution_count": 23,
   "metadata": {},
   "outputs": [
    {
     "data": {
      "text/plain": [
       "{('W', 'F'): 1,\n",
       " ('L', 'R'): -2,\n",
       " ('S', 'P'): -1,\n",
       " ('V', 'T'): 0,\n",
       " ('Q', 'Q'): 5,\n",
       " ('N', 'A'): -2,\n",
       " ('Z', 'Y'): -2,\n",
       " ('W', 'R'): -3,\n",
       " ('Q', 'A'): -1,\n",
       " ('S', 'D'): 0,\n",
       " ('H', 'H'): 8,\n",
       " ('S', 'H'): -1,\n",
       " ('H', 'D'): -1,\n",
       " ('L', 'N'): -3,\n",
       " ('W', 'A'): -3,\n",
       " ('Y', 'M'): -1,\n",
       " ('G', 'R'): -2,\n",
       " ('Y', 'I'): -1,\n",
       " ('Y', 'E'): -2,\n",
       " ('B', 'Y'): -3,\n",
       " ('Y', 'A'): -2,\n",
       " ('V', 'D'): -3,\n",
       " ('B', 'S'): 0,\n",
       " ('Y', 'Y'): 7,\n",
       " ('G', 'N'): 0,\n",
       " ('E', 'C'): -4,\n",
       " ('Y', 'Q'): -1,\n",
       " ('Z', 'Z'): 4,\n",
       " ('V', 'A'): 0,\n",
       " ('C', 'C'): 9,\n",
       " ('M', 'R'): -1,\n",
       " ('V', 'E'): -2,\n",
       " ('T', 'N'): 0,\n",
       " ('P', 'P'): 7,\n",
       " ('V', 'I'): 3,\n",
       " ('V', 'S'): -2,\n",
       " ('Z', 'P'): -1,\n",
       " ('V', 'M'): 1,\n",
       " ('T', 'F'): -2,\n",
       " ('V', 'Q'): -2,\n",
       " ('K', 'K'): 5,\n",
       " ('P', 'D'): -1,\n",
       " ('I', 'H'): -3,\n",
       " ('I', 'D'): -3,\n",
       " ('T', 'R'): -1,\n",
       " ('P', 'L'): -3,\n",
       " ('K', 'G'): -2,\n",
       " ('M', 'N'): -2,\n",
       " ('P', 'H'): -2,\n",
       " ('F', 'Q'): -3,\n",
       " ('Z', 'G'): -2,\n",
       " ('X', 'L'): -1,\n",
       " ('T', 'M'): -1,\n",
       " ('Z', 'C'): -3,\n",
       " ('X', 'H'): -1,\n",
       " ('D', 'R'): -2,\n",
       " ('B', 'W'): -4,\n",
       " ('X', 'D'): -1,\n",
       " ('Z', 'K'): 1,\n",
       " ('F', 'A'): -2,\n",
       " ('Z', 'W'): -3,\n",
       " ('F', 'E'): -3,\n",
       " ('D', 'N'): 1,\n",
       " ('B', 'K'): 0,\n",
       " ('X', 'X'): -1,\n",
       " ('F', 'I'): 0,\n",
       " ('B', 'G'): -1,\n",
       " ('X', 'T'): 0,\n",
       " ('F', 'M'): 0,\n",
       " ('B', 'C'): -3,\n",
       " ('Z', 'I'): -3,\n",
       " ('Z', 'V'): -2,\n",
       " ('S', 'S'): 4,\n",
       " ('L', 'Q'): -2,\n",
       " ('W', 'E'): -3,\n",
       " ('Q', 'R'): 1,\n",
       " ('N', 'N'): 6,\n",
       " ('W', 'M'): -1,\n",
       " ('Q', 'C'): -3,\n",
       " ('W', 'I'): -3,\n",
       " ('S', 'C'): -1,\n",
       " ('L', 'A'): -1,\n",
       " ('S', 'G'): 0,\n",
       " ('L', 'E'): -3,\n",
       " ('W', 'Q'): -2,\n",
       " ('H', 'G'): -2,\n",
       " ('S', 'K'): 0,\n",
       " ('Q', 'N'): 0,\n",
       " ('N', 'R'): 0,\n",
       " ('H', 'C'): -3,\n",
       " ('Y', 'N'): -2,\n",
       " ('G', 'Q'): -2,\n",
       " ('Y', 'F'): 3,\n",
       " ('C', 'A'): 0,\n",
       " ('V', 'L'): 1,\n",
       " ('G', 'E'): -2,\n",
       " ('G', 'A'): 0,\n",
       " ('K', 'R'): 2,\n",
       " ('E', 'D'): 2,\n",
       " ('Y', 'R'): -2,\n",
       " ('M', 'Q'): 0,\n",
       " ('T', 'I'): -1,\n",
       " ('C', 'D'): -3,\n",
       " ('V', 'F'): -1,\n",
       " ('T', 'A'): 0,\n",
       " ('T', 'P'): -1,\n",
       " ('B', 'P'): -2,\n",
       " ('T', 'E'): -1,\n",
       " ('V', 'N'): -3,\n",
       " ('P', 'G'): -2,\n",
       " ('M', 'A'): -1,\n",
       " ('K', 'H'): -1,\n",
       " ('V', 'R'): -3,\n",
       " ('P', 'C'): -3,\n",
       " ('M', 'E'): -2,\n",
       " ('K', 'L'): -2,\n",
       " ('V', 'V'): 4,\n",
       " ('M', 'I'): 1,\n",
       " ('T', 'Q'): -1,\n",
       " ('I', 'G'): -4,\n",
       " ('P', 'K'): -1,\n",
       " ('M', 'M'): 5,\n",
       " ('K', 'D'): -1,\n",
       " ('I', 'C'): -1,\n",
       " ('Z', 'D'): 1,\n",
       " ('F', 'R'): -3,\n",
       " ('X', 'K'): -1,\n",
       " ('Q', 'D'): 0,\n",
       " ('X', 'G'): -1,\n",
       " ('Z', 'L'): -3,\n",
       " ('X', 'C'): -2,\n",
       " ('Z', 'H'): 0,\n",
       " ('B', 'L'): -4,\n",
       " ('B', 'H'): 0,\n",
       " ('F', 'F'): 6,\n",
       " ('X', 'W'): -2,\n",
       " ('B', 'D'): 4,\n",
       " ('D', 'A'): -2,\n",
       " ('S', 'L'): -2,\n",
       " ('X', 'S'): 0,\n",
       " ('F', 'N'): -3,\n",
       " ('S', 'R'): -1,\n",
       " ('W', 'D'): -4,\n",
       " ('V', 'Y'): -1,\n",
       " ('W', 'L'): -2,\n",
       " ('H', 'R'): 0,\n",
       " ('W', 'H'): -2,\n",
       " ('H', 'N'): 1,\n",
       " ('W', 'T'): -2,\n",
       " ('T', 'T'): 5,\n",
       " ('S', 'F'): -2,\n",
       " ('W', 'P'): -4,\n",
       " ('L', 'D'): -4,\n",
       " ('B', 'I'): -3,\n",
       " ('L', 'H'): -3,\n",
       " ('S', 'N'): 1,\n",
       " ('B', 'T'): -1,\n",
       " ('L', 'L'): 4,\n",
       " ('Y', 'K'): -2,\n",
       " ('E', 'Q'): 2,\n",
       " ('Y', 'G'): -3,\n",
       " ('Z', 'S'): 0,\n",
       " ('Y', 'C'): -2,\n",
       " ('G', 'D'): -1,\n",
       " ('B', 'V'): -3,\n",
       " ('E', 'A'): -1,\n",
       " ('Y', 'W'): 2,\n",
       " ('E', 'E'): 5,\n",
       " ('Y', 'S'): -2,\n",
       " ('C', 'N'): -3,\n",
       " ('V', 'C'): -1,\n",
       " ('T', 'H'): -2,\n",
       " ('P', 'R'): -2,\n",
       " ('V', 'G'): -3,\n",
       " ('T', 'L'): -1,\n",
       " ('V', 'K'): -2,\n",
       " ('K', 'Q'): 1,\n",
       " ('R', 'A'): -1,\n",
       " ('I', 'R'): -3,\n",
       " ('T', 'D'): -1,\n",
       " ('P', 'F'): -4,\n",
       " ('I', 'N'): -3,\n",
       " ('K', 'I'): -3,\n",
       " ('M', 'D'): -3,\n",
       " ('V', 'W'): -3,\n",
       " ('W', 'W'): 11,\n",
       " ('M', 'H'): -2,\n",
       " ('P', 'N'): -2,\n",
       " ('K', 'A'): -1,\n",
       " ('M', 'L'): 2,\n",
       " ('K', 'E'): 1,\n",
       " ('Z', 'E'): 4,\n",
       " ('X', 'N'): -1,\n",
       " ('Z', 'A'): -1,\n",
       " ('Z', 'M'): -1,\n",
       " ('X', 'F'): -1,\n",
       " ('K', 'C'): -3,\n",
       " ('B', 'Q'): 0,\n",
       " ('X', 'B'): -1,\n",
       " ('B', 'M'): -3,\n",
       " ('F', 'C'): -2,\n",
       " ('Z', 'Q'): 3,\n",
       " ('X', 'Z'): -1,\n",
       " ('F', 'G'): -3,\n",
       " ('B', 'E'): 1,\n",
       " ('X', 'V'): -1,\n",
       " ('F', 'K'): -3,\n",
       " ('B', 'A'): -2,\n",
       " ('X', 'R'): -1,\n",
       " ('D', 'D'): 6,\n",
       " ('W', 'G'): -2,\n",
       " ('Z', 'F'): -3,\n",
       " ('S', 'Q'): 0,\n",
       " ('W', 'C'): -2,\n",
       " ('W', 'K'): -3,\n",
       " ('H', 'Q'): 0,\n",
       " ('L', 'C'): -1,\n",
       " ('W', 'N'): -4,\n",
       " ('S', 'A'): 1,\n",
       " ('L', 'G'): -4,\n",
       " ('W', 'S'): -3,\n",
       " ('S', 'E'): 0,\n",
       " ('H', 'E'): 0,\n",
       " ('S', 'I'): -2,\n",
       " ('H', 'A'): -2,\n",
       " ('S', 'M'): -1,\n",
       " ('Y', 'L'): -1,\n",
       " ('Y', 'H'): 2,\n",
       " ('Y', 'D'): -3,\n",
       " ('E', 'R'): 0,\n",
       " ('X', 'P'): -2,\n",
       " ('G', 'G'): 6,\n",
       " ('G', 'C'): -3,\n",
       " ('E', 'N'): 0,\n",
       " ('Y', 'T'): -2,\n",
       " ('Y', 'P'): -3,\n",
       " ('T', 'K'): -1,\n",
       " ('A', 'A'): 4,\n",
       " ('P', 'Q'): -1,\n",
       " ('T', 'C'): -1,\n",
       " ('V', 'H'): -3,\n",
       " ('T', 'G'): -2,\n",
       " ('I', 'Q'): -3,\n",
       " ('Z', 'T'): -1,\n",
       " ('C', 'R'): -3,\n",
       " ('V', 'P'): -2,\n",
       " ('P', 'E'): -1,\n",
       " ('M', 'C'): -1,\n",
       " ('K', 'N'): 0,\n",
       " ('I', 'I'): 4,\n",
       " ('P', 'A'): -1,\n",
       " ('M', 'G'): -3,\n",
       " ('T', 'S'): 1,\n",
       " ('I', 'E'): -3,\n",
       " ('P', 'M'): -2,\n",
       " ('M', 'K'): -1,\n",
       " ('I', 'A'): -1,\n",
       " ('P', 'I'): -3,\n",
       " ('R', 'R'): 5,\n",
       " ('X', 'M'): -1,\n",
       " ('L', 'I'): 2,\n",
       " ('X', 'I'): -1,\n",
       " ('Z', 'B'): 1,\n",
       " ('X', 'E'): -1,\n",
       " ('Z', 'N'): 0,\n",
       " ('X', 'A'): 0,\n",
       " ('B', 'R'): -1,\n",
       " ('B', 'N'): 3,\n",
       " ('F', 'D'): -3,\n",
       " ('X', 'Y'): -1,\n",
       " ('Z', 'R'): 0,\n",
       " ('F', 'H'): -1,\n",
       " ('B', 'F'): -3,\n",
       " ('F', 'L'): 0,\n",
       " ('X', 'Q'): -1,\n",
       " ('B', 'B'): 4}"
      ]
     },
     "execution_count": 23,
     "metadata": {},
     "output_type": "execute_result"
    }
   ],
   "source": [
    "matrix"
   ]
  },
  {
   "cell_type": "code",
   "execution_count": 24,
   "metadata": {},
   "outputs": [],
   "source": [
    "aa_li = [i for i in 'ACDEFGHIKLMNPQRSTVWY']"
   ]
  },
  {
   "cell_type": "code",
   "execution_count": 25,
   "metadata": {},
   "outputs": [],
   "source": [
    "l = len(aa_li)\n",
    "a = pd.DataFrame([[0]*l for i in aa_li])\n",
    "for i in range(l):\n",
    "    for j in range(l):\n",
    "        try:\n",
    "            a[i][j] = matrix[(aa_li[i],aa_li[j])]\n",
    "        except KeyError:\n",
    "            a[i][j] = matrix[(aa_li[j],aa_li[i])]"
   ]
  },
  {
   "cell_type": "code",
   "execution_count": 26,
   "metadata": {},
   "outputs": [
    {
     "data": {
      "text/plain": [
       "<matplotlib.axes._subplots.AxesSubplot at 0x1a2f459db00>"
      ]
     },
     "execution_count": 26,
     "metadata": {},
     "output_type": "execute_result"
    },
    {
     "data": {
      "image/png": "[encoded data removed]",
      "text/plain": [
       "<Figure size 720x576 with 2 Axes>"
      ]
     },
     "metadata": {
      "needs_background": "light"
     },
     "output_type": "display_data"
    }
   ],
   "source": [
    "fig = plt.figure(figsize=(10, 8))\n",
    "a.columns=aa_li\n",
    "a.index=aa_li\n",
    "sns.heatmap(a,annot=True)"
   ]
  },
  {
   "cell_type": "code",
   "execution_count": 27,
   "metadata": {},
   "outputs": [],
   "source": [
    "# Needleman-Wunsch\n",
    "def score_pos (c1, c2, sm, g):\n",
    "    if c1 == \"−\" or c2==\"−\":\n",
    "        return g\n",
    "    else:\n",
    "        if isinstance(sm, dict):\n",
    "            return sm[c1+c2]\n",
    "        else:\n",
    "            return sm[c1][c2]\n",
    "    \n",
    "    \n",
    "def read_submat_file (filename): \n",
    "    sm = {}\n",
    "    f = open(filename , \"r\") \n",
    "    line = f.readline() \n",
    "    tokens = line.split(\"\\t\") \n",
    "    ns = len(tokens)\n",
    "    alphabet = []\n",
    "    for i in range(0, ns):\n",
    "        alphabet.append(tokens[i][0]) \n",
    "    for i in range(0,ns):\n",
    "        line = f.readline();\n",
    "        tokens = line.split(\"\\t\");\n",
    "        for j in range(0, len(tokens)):\n",
    "            k = alphabet[i]+alphabet[j]\n",
    "            sm[k] = int (tokens[j]) \n",
    "    return sm\n",
    "\n",
    "\n",
    "def needleman_Wunsch (seq1, seq2, sm, g):\n",
    "    S = [[0]]\n",
    "    T = [[0]]\n",
    "    ## initialize gaps’ row\n",
    "    for j in range(1, len(seq2)+1):\n",
    "        S[0].append(g * j)\n",
    "        T[0].append(3)\n",
    "    ## initialize gaps’ column\n",
    "    for i in range(1, len(seq1)+1):\n",
    "        S.append([g * i])\n",
    "        T.append([2])\n",
    "    ## apply the recurrence relation to fill the remaining of the matrix\n",
    "    for i in range(0, len(seq1)):\n",
    "        for j in range(len(seq2)):\n",
    "            s1 = S[i][j] + score_pos(seq1[i],seq2[j],sm,g);\n",
    "            s2 = S[i][j+1] + g\n",
    "            s3 = S[i+1][j] + g\n",
    "            S[i+1].append(max(s1, s2, s3))\n",
    "            T[i+1].append(max3t(s1, s2, s3))\n",
    "    return (S, T)\n",
    "\n",
    "def max3t (v1, v2, v3):\n",
    "    if v1 > v2:\n",
    "        if v1 > v3: return 1\n",
    "        else: return 3\n",
    "    else:\n",
    "        if v2 > v3: return 2\n",
    "        else: return 3\n",
    "\n",
    "\n",
    "def recover_align (T, seq1, seq2):\n",
    "    res = [\"\", \"\"]\n",
    "    i = len(seq1)\n",
    "    j = len(seq2)\n",
    "    while i>0 or j>0:\n",
    "        if T[i][j]==1:\n",
    "            res[0] = seq1[i-1] + res[0]\n",
    "            res[1] = seq2[j-1] + res[1]\n",
    "            i -= 1\n",
    "            j -= 1\n",
    "        elif T[i][j] == 3:\n",
    "            res [0] = \"−\" + res [0]\n",
    "            res[1] = seq2[j-1] + res[1]\n",
    "            j -= 1\n",
    "        else:\n",
    "            res[0] = seq1[i-1] + res[0]\n",
    "            res [1] = \"−\" + res [1]\n",
    "            i -= 1\n",
    "    return res\n",
    "\n",
    "\n",
    "def print_mat(mat):\n",
    "    for i in range(0, len(mat)):\n",
    "        print(mat[i])\n",
    "\n",
    "def test_global_alig(sm):\n",
    "    # sm = read_submat_file(\"blosum62.mat\") \n",
    "    seq1 = \"PHSWG\"\n",
    "    seq2 = \"HGWAG\"\n",
    "    res = needleman_Wunsch(seq1, seq2, sm, -8)\n",
    "    S = res [0]\n",
    "    T = res [1]\n",
    "    print(\"Score of optimal alignment:\", S[len(seq1)][len(seq2)]) \n",
    "    print_mat(S)\n",
    "    print_mat(T)\n",
    "    alig = recover_align(T, seq1, seq2)\n",
    "    print(alig[0]) \n",
    "    print(alig[1])"
   ]
  },
  {
   "cell_type": "code",
   "execution_count": 28,
   "metadata": {},
   "outputs": [
    {
     "name": "stdout",
     "output_type": "stream",
     "text": [
      "Score of optimal alignment: 9\n",
      "[0, -8, -16, -24, -32, -40]\n",
      "[-8, -2, -10, -18, -25, -33]\n",
      "[-16, 0, -4, -12, -20, -27]\n",
      "[-24, -8, 0, -7, -11, -19]\n",
      "[-32, -16, -8, 11, 3, -5]\n",
      "[-40, -24, -10, 3, 11, 9]\n",
      "[0, 3, 3, 3, 3, 3]\n",
      "[2, 1, 3, 3, 1, 3]\n",
      "[2, 1, 1, 3, 3, 1]\n",
      "[2, 2, 1, 1, 1, 3]\n",
      "[2, 2, 2, 1, 3, 3]\n",
      "[2, 2, 1, 2, 1, 1]\n",
      "PHSW−G\n",
      "−HGWAG\n"
     ]
    }
   ],
   "source": [
    "test_global_alig(a)"
   ]
  },
  {
   "cell_type": "code",
   "execution_count": 29,
   "metadata": {},
   "outputs": [],
   "source": [
    "# Smith-Waterman\n",
    "def smith_Waterman (seq1, seq2, sm, g): \n",
    "    S = [[0]]\n",
    "    T = [[0]]\n",
    "    maxscore = 0\n",
    "    for j in range(1, len(seq2)+1):\n",
    "        S[0].append(0)\n",
    "        T[0].append(0)\n",
    "    for i in range(1, len(seq1)+1):\n",
    "        S.append([0])\n",
    "        T.append([0])\n",
    "    for i in range(0, len(seq1)):\n",
    "        for j in range(len(seq2)):\n",
    "            s1 = S[i][j] + score_pos (seq1[i], seq2[j], sm, g); \n",
    "            s2 = S[i][j+1] + g\n",
    "            s3 = S[i+1][j] + g\n",
    "            b = max(s1, s2, s3)\n",
    "            if b <= 0: \n",
    "                S[i+1].append(0) \n",
    "                T[i+1].append(0)\n",
    "            else:\n",
    "                S[i+1].append(b) \n",
    "                T[i+1].append(max3t(s1, s2, s3))\n",
    "                if b > maxscore: \n",
    "                    maxscore = b\n",
    "    return (S, T, maxscore)  \n",
    "\n",
    "def recover_align_local (S, T, seq1, seq2): \n",
    "    res = [\"\", \"\"]\n",
    "    i, j = max_mat(S) \n",
    "    while T[i][j]>0:\n",
    "        if T[i][j]==1:\n",
    "            res[0] = seq1[i-1] + res[0] \n",
    "            res[1] = seq2[j-1] + res[1]\n",
    "            i -= 1\n",
    "            j -= 1\n",
    "        elif T[i][j] == 3:\n",
    "            res [0] = \"−\" + res [0];\n",
    "            res[1] = seq2[j-1] + res[1]\n",
    "            j -= 1\n",
    "        elif T[i][j] == 2:\n",
    "            res[0] = seq1[i-1] + res[0]\n",
    "            res [1] = \"-\" + res [1]\n",
    "            i -= 1\n",
    "    return res\n",
    "\n",
    "def max_mat(mat):\n",
    "    maxval = mat [0][0]\n",
    "    maxrow = 0\n",
    "    maxcol = 0\n",
    "    for i in range(0,len(mat)):\n",
    "        for j in range(0, len(mat[i])):\n",
    "            if mat[i][j] > maxval:\n",
    "                maxval = mat[i][j]\n",
    "                maxrow = i\n",
    "                maxcol = j\n",
    "    return (maxrow,maxcol)\n",
    "\n",
    "def test_local_alig(sm):\n",
    "    # sm = read_submat_file(\"blosum62.mat\")\n",
    "    seq1 = \"HGWAG\"\n",
    "    seq2 = \"PHSWG\"\n",
    "    res = smith_Waterman(seq1, seq2, sm, -8)\n",
    "    S = res [0]\n",
    "    T = res [1]\n",
    "    print(\"Score of optimal alignment:\", res[2])\n",
    "    print_mat(S)\n",
    "    print_mat(T)\n",
    "    alinL= recover_align_local(S, T, seq1, seq2)\n",
    "    print(alinL[0])\n",
    "    print(alinL[1]) "
   ]
  },
  {
   "cell_type": "code",
   "execution_count": 30,
   "metadata": {},
   "outputs": [
    {
     "name": "stdout",
     "output_type": "stream",
     "text": [
      "Score of optimal alignment: 19\n",
      "[0, 0, 0, 0, 0, 0]\n",
      "[0, 0, 8, 0, 0, 0]\n",
      "[0, 0, 0, 8, 0, 6]\n",
      "[0, 0, 0, 0, 19, 11]\n",
      "[0, 0, 0, 1, 11, 19]\n",
      "[0, 0, 0, 0, 3, 17]\n",
      "[0, 0, 0, 0, 0, 0]\n",
      "[0, 0, 1, 0, 0, 0]\n",
      "[0, 0, 0, 1, 0, 1]\n",
      "[0, 0, 0, 0, 1, 3]\n",
      "[0, 0, 0, 1, 2, 1]\n",
      "[0, 0, 0, 0, 2, 1]\n",
      "HGW\n",
      "HSW\n"
     ]
    }
   ],
   "source": [
    "test_local_alig(a)"
   ]
  },
  {
   "cell_type": "markdown",
   "metadata": {},
   "source": [
    "### BLAST\n",
    "\n",
    "SIMPLE VERSION: \n",
    "* 匹配分数简化\n",
    "* 只考虑精确匹配，未考虑neighbor\n",
    "* \n",
    "\n",
    "> Hit $\\rightarrow$ HSP(high-scoring segment pair)\n",
    "\n",
    "$\\Downarrow$"
   ]
  },
  {
   "cell_type": "code",
   "execution_count": 31,
   "metadata": {},
   "outputs": [],
   "source": [
    "def best_alignment (db, query, w):\n",
    "    # Get words(list) of query sequence\n",
    "    m = build_map(query, w)\n",
    "    # Initialization\n",
    "    bestScore = -1.0\n",
    "    res = (0,0,0,0,0)\n",
    "    # Traversing\n",
    "    for k in range(0,len(db)):\n",
    "        bestSeq = hit_best_score(db[k], query, m, w)\n",
    "        if bestSeq != ():\n",
    "            score = bestSeq [3]\n",
    "            # Choose seq with better score or same score but better size among each db sequences\n",
    "            if score > bestScore or (score== bestScore and bestSeq[2] < res[2]):\n",
    "                bestScore = score\n",
    "                res = bestSeq[0], bestSeq[1], bestSeq[2], bestSeq[3], k\n",
    "    if bestScore < 0:\n",
    "        return ()\n",
    "    else:\n",
    "        return res\n",
    "\n",
    "def build_map (query, w):\n",
    "    res = {}\n",
    "    for i in range(len(query)-w+1):\n",
    "        subseq = query[i:i+w]\n",
    "        if subseq in res:\n",
    "            res[subseq].append(i)\n",
    "        else:\n",
    "            res[subseq] = [i]\n",
    "    return res\n",
    "\n",
    "def hit_best_score(seq, query, m, w):\n",
    "    # Get the word-index of db sequence\n",
    "    hits = get_hits(seq, m, w)\n",
    "    # Initialization\n",
    "    bestScore = -1.0\n",
    "    best = ()\n",
    "    # Traversing\n",
    "    for h in hits:\n",
    "        # \n",
    "        ext = extends_hit(seq, h, query, w)\n",
    "        score = ext[3] # matched count\n",
    "        # Choose seq with better score or same score but better size among each hits(extended)\n",
    "        if score > bestScore or (score== bestScore and ext[2] < best [2]):\n",
    "            bestScore = score\n",
    "            best = ext\n",
    "    return best\n",
    "\n",
    "def get_hits (seq, m, w):\n",
    "    '''\n",
    "    m：words列表\n",
    "    return (搜索序列中匹配上的下标,目标序列中匹配上的下标)\n",
    "    '''\n",
    "    res = [] # list of tuples\n",
    "    for i in range(len(seq)-w+1):\n",
    "        subseq = seq[i:i+w]\n",
    "        if subseq in m:\n",
    "            l = m[subseq]\n",
    "            for ind in l:\n",
    "                res.append( (ind,i) )\n",
    "    return res\n",
    "\n",
    "def extends_hit (seq, hit, query, w):\n",
    "    stq, sts = hit[0],hit[1]\n",
    "    ## move forward\n",
    "    matfw = 0 # matching count\n",
    "    k=0 # index count\n",
    "    bestk = 0 # record matched position\n",
    "    while 2*matfw >= k and stq+w+k < len(query) and sts+w+k < len(seq):\n",
    "        # 2*matfw: tolerance cutoff of matching%(decrease the unnecessary loop)\n",
    "        if query[stq+w+k] == seq[sts+w+k]:\n",
    "            matfw+=1\n",
    "            bestk = k+1\n",
    "        k += 1\n",
    "        if 2*matfw < k:\n",
    "            print(\"WARNING_1\", hit)\n",
    "    size = w + bestk\n",
    "    ## move backwards\n",
    "    k=0\n",
    "    matbw = 0\n",
    "    bestk = 0\n",
    "    while 2*matbw >= k and stq > k and sts > k:\n",
    "        if query[stq-k-1] == seq[sts-k-1]:\n",
    "            matbw+=1\n",
    "            bestk = k+1\n",
    "        k+=1\n",
    "        if 2*matbw < k:\n",
    "            print(\"WARNING_2\",hit)\n",
    "    size += bestk\n",
    "    return (stq-bestk, sts-bestk, size, w+matfw+matbw)"
   ]
  },
  {
   "cell_type": "code",
   "execution_count": 32,
   "metadata": {
    "scrolled": true
   },
   "outputs": [
    {
     "name": "stdout",
     "output_type": "stream",
     "text": [
      "WARNING_1 (0, 8)\n",
      "WARNING_1 (1, 3)\n",
      "WARNING_1 (1, 6)\n",
      "WARNING_2 (1, 6)\n",
      "WARNING_2 (5, 7)\n"
     ]
    },
    {
     "data": {
      "text/plain": [
       "(0, 2, 11, 10, 1)"
      ]
     },
     "execution_count": 32,
     "metadata": {},
     "output_type": "execute_result"
    }
   ],
   "source": [
    "best_alignment(['ATRAFSDGASDGS','ERASDFSDFZGDGATATA'], 'ASDFTDFZGDG', 3)"
   ]
  },
  {
   "cell_type": "code",
   "execution_count": 33,
   "metadata": {},
   "outputs": [],
   "source": [
    "seq1 = 'PHSWG'\n",
    "seq2 = 'HGWAG'\n",
    "gap = -8\n",
    "\n",
    "S = [[0]]\n",
    "T = [[0]]\n",
    "# initialize gaps'row\n",
    "for j in range(1, len(seq2)+1):\n",
    "    S[0].append(gap * j)\n",
    "    T[0].append(3)\n",
    "# initialize gaps'column\n",
    "for i in range(1, len(seq1)+1):\n",
    "    S.append([gap * i])\n",
    "    T.append([2])"
   ]
  },
  {
   "cell_type": "code",
   "execution_count": 34,
   "metadata": {},
   "outputs": [
    {
     "data": {
      "text/plain": [
       "[[0, -8, -16, -24, -32, -40], [-8], [-16], [-24], [-32], [-40]]"
      ]
     },
     "execution_count": 34,
     "metadata": {},
     "output_type": "execute_result"
    }
   ],
   "source": [
    "[\n",
    "    [0, -8, -16, -24, -32, -40], \n",
    "    [-8], \n",
    "    [-16], \n",
    "    [-24], \n",
    "    [-32], \n",
    "    [-40]\n",
    "]"
   ]
  },
  {
   "cell_type": "code",
   "execution_count": 35,
   "metadata": {},
   "outputs": [
    {
     "data": {
      "text/plain": [
       "[[0, 3, 3, 3, 3, 3], [2], [2], [2], [2], [2]]"
      ]
     },
     "execution_count": 35,
     "metadata": {},
     "output_type": "execute_result"
    }
   ],
   "source": [
    "[\n",
    "    [0, 3, 3, 3, 3, 3], \n",
    "    [2], \n",
    "    [2], \n",
    "    [2], \n",
    "    [2], \n",
    "    [2]\n",
    "]"
   ]
  },
  {
   "cell_type": "code",
   "execution_count": 36,
   "metadata": {},
   "outputs": [
    {
     "data": {
      "text/plain": [
       "<matplotlib.axes._subplots.AxesSubplot at 0x1a2f4a45ef0>"
      ]
     },
     "execution_count": 36,
     "metadata": {},
     "output_type": "execute_result"
    },
    {
     "data": {
      "image/png": "[encoded data removed]",
      "text/plain": [
       "<Figure size 432x288 with 2 Axes>"
      ]
     },
     "metadata": {
      "needs_background": "light"
     },
     "output_type": "display_data"
    }
   ],
   "source": [
    "sns.heatmap([\n",
    "    [0, -8, -16, -24, -32, -40], \n",
    "    [-8, -2, -10, -18, -25, -33], \n",
    "    [-16, 0, -4, -12, -20, -27], \n",
    "    [-24, -8, 0, -7, -11, -19], \n",
    "    [-32, -16, -8, 11, 3, -5], \n",
    "    [-40, -24, -10, 3, 11, 9]\n",
    "],annot=True)"
   ]
  },
  {
   "cell_type": "code",
   "execution_count": 37,
   "metadata": {},
   "outputs": [
    {
     "data": {
      "text/plain": [
       "<matplotlib.axes._subplots.AxesSubplot at 0x1a2f4691198>"
      ]
     },
     "execution_count": 37,
     "metadata": {},
     "output_type": "execute_result"
    },
    {
     "data": {
      "image/png": "[encoded data removed]",
      "text/plain": [
       "<Figure size 432x288 with 2 Axes>"
      ]
     },
     "metadata": {
      "needs_background": "light"
     },
     "output_type": "display_data"
    }
   ],
   "source": [
    "sns.heatmap([\n",
    "    [0, 3, 3, 3, 3, 3], \n",
    "    [2, 1, 3, 3, 1, 3], \n",
    "    [2, 1, 1, 3, 3, 1], \n",
    "    [2, 2, 1, 1, 1, 3], \n",
    "    [2, 2, 2, 1, 3, 3], \n",
    "    [2, 2, 1, 2, 1, 1]\n",
    "],annot=True)"
   ]
  },
  {
   "cell_type": "markdown",
   "metadata": {
    "slideshow": {
     "slide_type": "notes"
    },
    "tags": [
     "2019-10-07"
    ]
   },
   "source": [
    "### Multiple Sequence Alignment (MSA)\n",
    "* Global\n",
    "* Local $\\rightarrow$ Motif Discovery\n",
    "* pairwise++\n",
    "    * Multi-Dimension DP $\\rightarrow$ Large amount of calculation\n",
    "    * Progressive $\\rightarrow$ 基于相似序列通常具有进化相关性的假设 (e.g Clustal _Feng, Doolittle_)\n",
    "\n",
    "#### Progressive (Simple)\n",
    "1. Dist, Similarity Matrix\n",
    "2. Guide Tree\n",
    "3. Alignment\n",
    "\n",
    "```bash\n",
    "S1  P E E [V] T ...\n",
    "S2  P E E [V] A ...\n",
    "S3  P E E [A] A ...\n",
    "S4  P E E [L] A ...\n",
    "\n",
    "for S4: Score = (SM(V, L)*2 + SM(A, L)) / 3\n",
    "```"
   ]
  },
  {
   "cell_type": "code",
   "execution_count": 39,
   "metadata": {},
   "outputs": [
    {
     "name": "stdout",
     "output_type": "stream",
     "text": [
      "\n",
      "ATGA−A\n",
      "AA−AT−\n",
      "6\n",
      "['G', '−']\n",
      "A\n",
      "ATGA−A\n",
      "ATGATA\n"
     ]
    }
   ],
   "source": [
    "class MyAlign:\n",
    "    def __init__(self , lseqs, al_type = \"protein\"):\n",
    "        self.listseqs = lseqs\n",
    "        self.al_type = al_type\n",
    "\n",
    "    def __len__(self): # number of columns\n",
    "        return len(self.listseqs[0])\n",
    "\n",
    "    def __getitem__(self, n):\n",
    "        if type(n) is tuple and len(n) ==2:\n",
    "            i, j = n\n",
    "            return self.listseqs[i][j]\n",
    "        elif type(n) is int: return self.listseqs[n]\n",
    "        return None\n",
    "\n",
    "    def __str__(self):\n",
    "        res = \"\"\n",
    "        for seq in self.listseqs:\n",
    "            res += \"\\n\" + seq\n",
    "        return res\n",
    "\n",
    "    def num_seqs(self):\n",
    "        return len(self.listseqs)\n",
    "\n",
    "    def column(self, indice): \n",
    "        res = []\n",
    "        for k in range(len(self.listseqs)):\n",
    "            res.append( self.listseqs[k][indice])\n",
    "        return res\n",
    "\n",
    "    def consensus (self):\n",
    "        cons = \"\"\n",
    "        for i in range(len(self)):\n",
    "            cont = {}\n",
    "            for k in range(len(self.listseqs)):\n",
    "                c = self.listseqs[k][i]\n",
    "                if c in cont:\n",
    "                    cont[c] = cont[c] + 1\n",
    "                else:\n",
    "                    cont[c] = 1\n",
    "            maximum = 0\n",
    "            cmax = None\n",
    "            for ke in cont.keys():\n",
    "                if ke != \"−\" and cont[ke] > maximum:\n",
    "                    maximum = cont[ke]\n",
    "                    cmax = ke\n",
    "            cons = cons + cmax\n",
    "        return cons\n",
    "\n",
    "if __name__ == \"__main__\":\n",
    "    alig = MyAlign([\"ATGA−A\",\"AA−AT−\"], \"dna\")\n",
    "    print(alig)\n",
    "    print(len(alig))\n",
    "    print(alig.column(2))\n",
    "    print(alig[1,1])\n",
    "    print(alig[0])\n",
    "    print(alig.consensus())"
   ]
  },
  {
   "cell_type": "code",
   "execution_count": 44,
   "metadata": {},
   "outputs": [],
   "source": [
    "class PairWiseAligner:\n",
    "    '''\n",
    "    # Pairwise Alignment\n",
    "    * Global Alignment: Needleman-Wunsch\n",
    "    * Local Alignment: Smith-Waterman\n",
    "    '''\n",
    "\n",
    "    def __init__(self):\n",
    "        '''Set DefaultValues'''\n",
    "        self.gapSymbol = \"-\"\n",
    "        self.defaultValue = 0\n",
    "        self.newMatrix = {}\n",
    "\n",
    "    def __repr__(self):\n",
    "        '''Show the Content of Matrix'''\n",
    "        from numpy import array\n",
    "        return \"Matrix(S):\\n%s\\n\\nMatrix(T):\\n%s\\n\" % (array(self.S), array(self.T))\n",
    "\n",
    "    @property\n",
    "    def defaultMatrix(self):\n",
    "        '''Get Blosum Matrix Via BioPython'''\n",
    "        from Bio.SubsMat import MatrixInfo\n",
    "        matrix = MatrixInfo.blosum62\n",
    "        return matrix\n",
    "\n",
    "    def score_pos(self, c1, c2):\n",
    "        '''Get Score of particular position via given matrix'''\n",
    "        if c1 == self.gapSymbol or c2 == self.gapSymbol:\n",
    "            return self.gap\n",
    "        else:\n",
    "            try:\n",
    "                result = self.matrix[(c1, c2)]\n",
    "            except KeyError:\n",
    "                try:\n",
    "                    result = self.matrix[(c2, c1)]\n",
    "                except KeyError:\n",
    "                    print(\"Unexpected key for given matrix, return defaultValue.\")\n",
    "                    return self.defaultValue\n",
    "        return result\n",
    "\n",
    "    def max3t(v1, v2, v3):\n",
    "        '''Get the optimized direction'''\n",
    "        if v1 > v2:\n",
    "            if v1 > v3:\n",
    "                return 1\n",
    "            else:\n",
    "                return 3\n",
    "        else:\n",
    "            if v2 > v3:\n",
    "                return 2\n",
    "            else:\n",
    "                return 3\n",
    "\n",
    "    def max_mat(mat):\n",
    "        '''Get the row and col of optimized values'''\n",
    "        maxval = mat[0][0]\n",
    "        maxrow = 0\n",
    "        maxcol = 0\n",
    "        for i in range(0, len(mat)):\n",
    "            for j in range(0, len(mat[i])):\n",
    "                if mat[i][j] > maxval:\n",
    "                    maxval = mat[i][j]\n",
    "                    maxrow = i\n",
    "                    maxcol = j\n",
    "        return maxrow, maxcol\n",
    "\n",
    "    def needleman_Wunsch(self):\n",
    "        '''\n",
    "        Global Alignment\n",
    "        * Dynamic Programming\n",
    "        * optimized\n",
    "        '''\n",
    "        self.S = [[0]]  # Record the score\n",
    "        self.T = [[0]]  # Record the orientation\n",
    "        # initialize gaps'row\n",
    "        for j in range(1, len(self.seq2)+1):\n",
    "            self.S[0].append(self.gap * j)\n",
    "            self.T[0].append(3)\n",
    "        # initialize gaps'column\n",
    "        for i in range(1, len(self.seq1)+1):\n",
    "            self.S.append([self.gap * i])\n",
    "            self.T.append([2])\n",
    "        # apply the recurrence relation to fill the remaining of the matrix\n",
    "        for i in range(len(self.seq1)):\n",
    "            for j in range(len(self.seq2)):\n",
    "                s1 = self.S[i][j] + self.score_pos(self.seq1[i], self.seq2[j])\n",
    "                s2 = self.S[i][j+1] + self.gap\n",
    "                s3 = self.S[i+1][j] + self.gap\n",
    "                self.S[i+1].append(max(s1, s2, s3))\n",
    "                self.T[i+1].append(PairWiseAligner.max3t(s1, s2, s3))\n",
    "\n",
    "    def smith_Waterman(self):\n",
    "        '''\n",
    "        Local Alignment\n",
    "        * Dynamic Programming\n",
    "        * optimized\n",
    "        '''\n",
    "        self.S = [[0]]  # Record the score\n",
    "        self.T = [[0]]  # Record the orientation\n",
    "        maxscore = 0\n",
    "        for j in range(1, len(self.seq2)+1):\n",
    "            self.S[0].append(0)\n",
    "            self.T[0].append(0)\n",
    "        for i in range(1, len(self.seq1)+1):\n",
    "            self.S.append([0])\n",
    "            self.T.append([0])\n",
    "        for i in range(0, len(self.seq1)):\n",
    "            for j in range(len(self.seq2)):\n",
    "                s1 = self.S[i][j] + self.score_pos(self.seq1[i], self.seq2[j])\n",
    "                s2 = self.S[i][j+1] + self.gap\n",
    "                s3 = self.S[i+1][j] + self.gap\n",
    "                b = max(s1, s2, s3)\n",
    "                if b <= 0:\n",
    "                    self.S[i+1].append(0)\n",
    "                    self.T[i+1].append(0)\n",
    "                else:\n",
    "                    self.S[i+1].append(b)\n",
    "                    self.T[i+1].append(PairWiseAligner.max3t(s1, s2, s3))\n",
    "                    if b > maxscore:\n",
    "                        maxscore = b\n",
    "        return maxscore\n",
    "\n",
    "    def recover_align_global(self):\n",
    "        '''Get the content of global alignment'''\n",
    "        res = [\"\", \"\"]\n",
    "        i = len(self.seq1)\n",
    "        j = len(self.seq2)\n",
    "        while i > 0 or j > 0:\n",
    "            if self.T[i][j] == 1:\n",
    "                res[0] = self.seq1[i-1] + res[0]\n",
    "                res[1] = self.seq2[j-1] + res[1]\n",
    "                i -= 1\n",
    "                j -= 1\n",
    "            elif self.T[i][j] == 3:\n",
    "                res[0] = self.gapSymbol + res[0]\n",
    "                res[1] = self.seq2[j-1] + res[1]\n",
    "                j -= 1\n",
    "            else:\n",
    "                res[0] = self.seq1[i-1] + res[0]\n",
    "                res[1] = self.gapSymbol + res[1]\n",
    "                i -= 1\n",
    "        return res\n",
    "\n",
    "    def recover_align_local(self):\n",
    "        '''Get the content of local alignment'''\n",
    "        res = [\"\", \"\"]\n",
    "        i, j = PairWiseAligner.max_mat(self.S)\n",
    "        while self.T[i][j] > 0:\n",
    "            if self.T[i][j] == 1:\n",
    "                res[0] = self.seq1[i-1] + res[0]\n",
    "                res[1] = self.seq2[j-1] + res[1]\n",
    "                i -= 1\n",
    "                j -= 1\n",
    "            elif self.T[i][j] == 3:\n",
    "                res[0] = self.gapSymbol + res[0]\n",
    "                res[1] = self.seq2[j-1] + res[1]\n",
    "                j -= 1\n",
    "            elif self.T[i][j] == 2:\n",
    "                res[0] = self.seq1[i-1] + res[0]\n",
    "                res[1] = self.gapSymbol + res[1]\n",
    "                i -= 1\n",
    "        return res\n",
    "\n",
    "    def is_legal_matrix(self, matrix):\n",
    "        '''Check whether the dict-form of matrix is legal or not'''\n",
    "        if not isinstance(matrix, dict):\n",
    "            print(\"Not a Dict\", type(matrix))\n",
    "            return False\n",
    "        else:\n",
    "            for key, data in matrix.items():\n",
    "                if len(key) != 2:\n",
    "                    print(\"Invalid Key\")\n",
    "                    return False\n",
    "                else:\n",
    "                    try:\n",
    "                        int(data)\n",
    "                    except Exception:\n",
    "                        print(\"Invalid Data\")\n",
    "                        return False\n",
    "            return True\n",
    "\n",
    "    def new_matrix(self, pairs, value):\n",
    "        '''Create new matrix via input'''\n",
    "        self.newMatrix[tuple(pairs)] = value\n",
    "        assert self.is_legal_matrix(self.newMatrix), \"Illegal Matrix !\"\n",
    "\n",
    "    def align(self, seq1, seq2, gap=-8, matrix=False, mode='global'):\n",
    "        '''Do the alignment'''\n",
    "        if isinstance(matrix, bool):\n",
    "            self.matrix = self.defaultMatrix\n",
    "        else:\n",
    "            self.matrix = matrix\n",
    "\n",
    "        assert self.is_legal_matrix(self.matrix), \"Illegal Matrix !\"\n",
    "\n",
    "        self.seq1 = seq1\n",
    "        self.seq2 = seq2\n",
    "        self.gap = gap\n",
    "\n",
    "        if mode == 'global':\n",
    "            self.needleman_Wunsch()\n",
    "            alig = self.S[len(seq1)][len(seq2)], self.recover_align_global()\n",
    "        elif mode == 'local':\n",
    "            alig = self.smith_Waterman(), self.recover_align_local()\n",
    "        else:\n",
    "            alig = None\n",
    "\n",
    "        return alig\n",
    "\n",
    "    def look_alignment(self, align_a, align_b, start, end):\n",
    "        '''Access the detailed result of the alignment'''\n",
    "        sub_seq_a = align_a[start:end+1]\n",
    "        sub_seq_b = align_b[start:end+1]\n",
    "        return \"%s\\n%s\\n%s\" % (sub_seq_a, \"|\"*(end-start+1), sub_seq_b)"
   ]
  },
  {
   "cell_type": "code",
   "execution_count": 45,
   "metadata": {
    "collapsed": true
   },
   "outputs": [
    {
     "name": "stdout",
     "output_type": "stream",
     "text": [
      "Matrix(S):\n",
      "[[  0  -8 -16 -24 -32 -40 -48 -56 -64 -72 -80]\n",
      " [ -8  -2 -10 -18 -25 -33 -33 -41 -49 -57 -65]\n",
      " [-16   0  -4 -12 -20 -27 -35 -25 -33 -41 -49]\n",
      " [-24  -8   0  -7 -11 -19 -27 -33 -21 -29 -37]\n",
      " [-32 -16  -8  11   3  -5 -13 -21 -29 -10 -18]\n",
      " [-40 -24 -10   3  11   9   1  -7 -15 -18  -4]\n",
      " [-48 -32 -18  -5   3   9  16   8   0  -8 -12]\n",
      " [-56 -40 -26 -13  -5   1   8  24  16   8   0]\n",
      " [-64 -48 -34 -21 -12  -5   0  16  28  20  12]\n",
      " [-72 -56 -42 -23 -20 -13  -8   8  20  39  31]\n",
      " [-80 -64 -50 -31 -23 -14 -15   0  12  31  45]]\n",
      "\n",
      "Matrix(T):\n",
      "[[0 3 3 3 3 3 3 3 3 3 3]\n",
      " [2 1 3 3 1 3 1 3 3 3 3]\n",
      " [2 1 1 3 3 1 3 1 3 3 3]\n",
      " [2 2 1 1 1 3 3 2 1 3 3]\n",
      " [2 2 2 1 3 3 3 3 3 1 3]\n",
      " [2 2 1 2 1 1 3 3 3 2 1]\n",
      " [2 2 2 2 2 1 1 3 3 3 2]\n",
      " [2 2 2 2 2 2 2 1 3 3 3]\n",
      " [2 2 2 2 1 1 2 2 1 3 3]\n",
      " [2 2 2 1 2 2 2 2 2 1 3]\n",
      " [2 2 2 2 1 1 1 2 2 2 1]]\n",
      "\n",
      "Score: 45\n",
      "PHSW-GP\n",
      "|||||||\n",
      "-HGWAGP\n"
     ]
    }
   ],
   "source": [
    "seq1 = \"PHSWGPHSWG\"\n",
    "seq2 = \"HGWAGPHSWG\"\n",
    "pwA = PairWiseAligner()\n",
    "alignment = pwA.align(seq1, seq2, mode='global')\n",
    "print(pwA)\n",
    "print(\"Score:\", alignment[0])\n",
    "print(pwA.look_alignment(alignment[1][0], alignment[1][1], 0, 6))"
   ]
  },
  {
   "cell_type": "code",
   "execution_count": 51,
   "metadata": {},
   "outputs": [],
   "source": [
    "from itertools import combinations\n",
    "seqs = list(combinations([\"ATAGC\", \"AACC\", \"ATGAC\"], 2))"
   ]
  },
  {
   "cell_type": "code",
   "execution_count": 55,
   "metadata": {
    "scrolled": true
   },
   "outputs": [
    {
     "name": "stdout",
     "output_type": "stream",
     "text": [
      "(6, ['ATAGC', 'A-ACC'])\n",
      "(18, ['ATAGC', 'ATGAC'])\n",
      "(5, ['AA-CC', 'ATGAC'])\n"
     ]
    }
   ],
   "source": [
    "for seq in seqs:\n",
    "    print(pwA.align(seq[0], seq[1], mode='global'))"
   ]
  },
  {
   "cell_type": "markdown",
   "metadata": {},
   "source": [
    "```py\n",
    "from Bio import Alphabet\n",
    "from Bio.SeqRecord import SeqRecord\n",
    "from Bio.Align import MultipleSeqAlignment\n",
    "from Bio.Alphabet import IUPAC\n",
    "from Bio.Seq import Seq\n",
    "seq1 = \"MHQAIFIYQIGYPLKSGYIQSIRSPEYDNW\"\n",
    "seq2 = \"MH−−IFIYQIGYALKSGYIQSIRSPEY−NW\"\n",
    "seq3 = \"MHQAIFI−QIGYALKSGY−QSIRSPEYDNW\"\n",
    "seqr1 = SeqRecord(Seq(seq1,Alphabet.Gapped(IUPAC.protein)),id=\"seq1\")\n",
    "seqr2 = SeqRecord(Seq(seq2,Alphabet.Gapped(IUPAC.protein)),id=\"seq2\")\n",
    "seqr3 = SeqRecord(Seq(seq3,Alphabet.Gapped(IUPAC.protein)),id=\"seq3\")\n",
    "alin = MultipleSeqAlignment([seqr1, seqr2, seqr3])\n",
    "print(alin)\n",
    "```"
   ]
  },
  {
   "cell_type": "markdown",
   "metadata": {},
   "source": [
    "### Generate a Evolutionary/Phylogenetic Tree\n",
    "* Classic\n",
    "    * 形态学特征\n",
    "    * 生理，生化，行为习性特征\n",
    "    * 化石\n",
    "    * 缺点: 表型一般与多个遗传因素相关，结果会产生偏差；化石样品难寻\n",
    "* Molecular\n",
    "    * 利用从遗传物质中提取的信息作为特征 \n",
    "    * 即利用核酸或蛋白质序列（molecular fossil)\n",
    "    * 优点：数量大，获取容易\n",
    "\n",
    "#### Node\n",
    "* taxonomy单位\n",
    "\n",
    "#### Branch\n",
    "* node与node间关系？\n",
    "* branch长度反映当这件事发生时就存在的蛋白质与现在的蛋白质之间的距离\n",
    "\n",
    "#### Rooted Tree and Unrooted Tree\n",
    "* rooted tree: 树上物种或基因进化的时间顺序，可显示共同祖先\n",
    "* unrooted tree: 树系中代表时间视最早的共同祖先不能确定，只反映分类单元间的距离\n",
    "\n",
    "#### Application\n",
    "* 物种分类及定义\n",
    "* 功能注释\n",
    "* 法医等领域\n",
    "\n",
    "#### Distannce-Based Algorithms\n",
    "* 在距离矩阵的基础上，根据双序列比对时的差异程度建立进化树\n",
    "* 目标函数: 测量树中叶子（代表序列）之间距离的一致性，这些距离是通过序列相似性（通过序列比对）获得的\n",
    "* 序列间的距离矩阵：序列间的相似性的倒数-序列比对 \n",
    "* 已知距离矩阵，目标函数可以定义为使误差函数即树中距离和矩阵中距离的误差最小:\n",
    "$$\\text{score}(T) = \\sum_{i,j \\in S}(d_{ij}(T)-D_{ij})^2$$\n",
    "    * S是输入的序列\n",
    "    * T表示树\n",
    "    * dij(T)表示序列i和j在树中的距离\n",
    "    * Dij表示在矩阵中的距离\n",
    "* 树中节点u和v的距离，与从u到v游走的垂直距离。如果w是这两个点的最近祖先，那么u和v的距离为$d_{uw} + d_{wv}$\n",
    "* $d_{uw} = h(w) - h(u)$\n",
    "* $d_{wv} = h(w) - h(v)$ 其中h(x)表示节点在树中的高度 \n",
    "* ```NP-hard```\n",
    "\n",
    "##### Unweighted Pair Group Method Using Arithmetic Averages (UPGMA)\n",
    "> Unweighted; Pair Group; Arithmetic Average\n",
    "\n",
    "* 凝聚层次聚类算法\n",
    "* 步骤\n",
    "    * 将每个序列看成一个聚类，并设置高度为0\n",
    "    * 将距离最近的序列或聚类 (距离矩阵中最小的数值) 合并成内部节点，并设置在树中高度为序列距离的一半\n",
    "    * 这些序列在下回迭代中将会被看作一个聚类，距离将会是与剩余的序列节点距离的平均值\n",
    "    * 具以上更新距离矩阵\n",
    "\n",
    "$$\\dfrac{1}{\\left| A \\right|.\\left| B \\right|} \\sum_{i \\in A} \\sum_{j \\in B} D_{ij} $$\n",
    "\n",
    "\n",
    "$$D(A\\cup B, X) = \\dfrac{\\left| A \\right|.D(A,X) + \\left|B \\right|.D(B,X)}{\\left| A \\right|+\\left|B\\right|}$$\n",
    "\n",
    "\n",
    "$$D(A\\cup B, X) = \\dfrac{D(A,X) + D(B,X)}{2}$$\n",
    "#### Maximum Parsimony\n",
    "* 包括了通过确定可以解释序列最小可变性的必须突变的方法\n",
    "* 基本假设：生物序列总是采用某种“最节约成本”或“最经济”的方法完成进化\n",
    "* 计算量小,适用于大规模系统树构建。软件有MEGA和phylip \n",
    "#### Statistical/Bayesian Methods/最大似然法？\n",
    "* 定义不同类型突变发生率的概率模型，基于次对进化树进行评分, 根据假设的模型搜索最 可能解释序列的树\n",
    "* 适用于探索远缘序列间的关系。软件有DNAML和DNALK\n",
    "\n",
    "#### Use Binary Tree to represent Phylogenetic Tree\n",
    "* 假设：所有的内部节点都有两个分支\n",
    "* 每个内部节点包含了高度信息（数值型)\n",
    "* 每个叶子包含了序列的索引（整数型）"
   ]
  },
  {
   "cell_type": "code",
   "execution_count": null,
   "metadata": {},
   "outputs": [],
   "source": []
  }
 ],
 "metadata": {
  "kernelspec": {
   "display_name": "Python 3",
   "language": "python",
   "name": "python3"
  },
  "language_info": {
   "codemirror_mode": {
    "name": "ipython",
    "version": 3
   },
   "file_extension": ".py",
   "mimetype": "text/x-python",
   "name": "python",
   "nbconvert_exporter": "python",
   "pygments_lexer": "ipython3",
   "version": "3.6.8"
  }
 },
 "nbformat": 4,
 "nbformat_minor": 2
}
